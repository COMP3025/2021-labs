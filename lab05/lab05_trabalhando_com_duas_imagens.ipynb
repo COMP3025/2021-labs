{
  "nbformat": 4,
  "nbformat_minor": 0,
  "metadata": {
    "colab": {
      "name": "lab05 - trabalhando com duas imagens.ipynb",
      "provenance": [],
      "authorship_tag": "ABX9TyMP/FDRB1L3lzbiJaaN38ZS",
      "include_colab_link": true
    },
    "kernelspec": {
      "name": "python3",
      "display_name": "Python 3"
    },
    "language_info": {
      "name": "python"
    }
  },
  "cells": [
    {
      "cell_type": "markdown",
      "metadata": {
        "id": "view-in-github",
        "colab_type": "text"
      },
      "source": [
        "<a href=\"https://colab.research.google.com/github/COMP3025/2021-labs/blob/main/lab05/lab05_trabalhando_com_duas_imagens.ipynb\" target=\"_parent\"><img src=\"https://colab.research.google.com/assets/colab-badge.svg\" alt=\"Open In Colab\"/></a>"
      ]
    },
    {
      "cell_type": "markdown",
      "metadata": {
        "id": "Bc0RvkaM2yuG"
      },
      "source": [
        "# Laboratório 05\n",
        "\n",
        "Escolha duas imagens, de preferência do mesmo tamanho, e façam as seguintes operações:\n",
        " - SOMA\n",
        " - SUBTRAÇÃO\n",
        " - UNIÃO\n",
        "\n",
        " "
      ]
    },
    {
      "cell_type": "code",
      "metadata": {
        "id": "hsx5MuyH2qH7"
      },
      "source": [
        "# TODO: carregar as libs para o exercício# TODO: plotar as imagens lado a lado: original,"
      ],
      "execution_count": null,
      "outputs": []
    },
    {
      "cell_type": "code",
      "metadata": {
        "id": "3Vt2KEvN3WhK"
      },
      "source": [
        "# TODO: carregar as imagens que serão utilizadas"
      ],
      "execution_count": null,
      "outputs": []
    },
    {
      "cell_type": "code",
      "metadata": {
        "id": "r1zANYP33Zv4"
      },
      "source": [
        "# TODO: somar imagem1 com imagem2, e plotar o resultado"
      ],
      "execution_count": null,
      "outputs": []
    },
    {
      "cell_type": "code",
      "metadata": {
        "id": "ND5-5hdS3doE"
      },
      "source": [
        "# TODO: somar imagem2 com imagem1, e plotar o resultado"
      ],
      "execution_count": null,
      "outputs": []
    },
    {
      "cell_type": "code",
      "metadata": {
        "id": "VGTzzMWl3n7R"
      },
      "source": [
        "# TODO: plotar as imagens lado a lado: original, (img1 + img2) e (img2 + img1) "
      ],
      "execution_count": null,
      "outputs": []
    },
    {
      "cell_type": "code",
      "metadata": {
        "id": "N22n_Jts3fbi"
      },
      "source": [
        "# TODO: subtrair imagem1 com imagem2, e plotar o resultado"
      ],
      "execution_count": null,
      "outputs": []
    },
    {
      "cell_type": "code",
      "metadata": {
        "id": "5RFklmKC3hf9"
      },
      "source": [
        "# TODO: subtrair imagem2 com imagem1, e plotar o resultado"
      ],
      "execution_count": null,
      "outputs": []
    },
    {
      "cell_type": "code",
      "metadata": {
        "id": "578BCbAj3z7F"
      },
      "source": [
        "# TODO: plotar as imagens lado a lado: original, (img1 + img2) e (img2 + img1) "
      ],
      "execution_count": null,
      "outputs": []
    },
    {
      "cell_type": "code",
      "metadata": {
        "id": "ZVoBryjA3jb4"
      },
      "source": [
        "# TODO: aplicar a operação de união imagem1 com imagem2, e plotar o resultado"
      ],
      "execution_count": null,
      "outputs": []
    },
    {
      "cell_type": "code",
      "metadata": {
        "id": "nmHDIFiK39tJ"
      },
      "source": [
        "# TODO: plotar as imagens lado a lado: original e união"
      ],
      "execution_count": null,
      "outputs": []
    }
  ]
}