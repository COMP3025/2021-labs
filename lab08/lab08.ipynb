{
  "nbformat": 4,
  "nbformat_minor": 0,
  "metadata": {
    "colab": {
      "name": "lab08.ipynb",
      "provenance": []
    },
    "kernelspec": {
      "name": "python3",
      "display_name": "Python 3"
    },
    "language_info": {
      "name": "python"
    }
  },
  "cells": [
    {
      "cell_type": "markdown",
      "metadata": {
        "id": "sI1YJVk2H8mp"
      },
      "source": [
        "# Lab08 - Filtros de contorno\n",
        "\n",
        "Aplicar os filtros de contorno:\n",
        "\n",
        "\n",
        "*   Prewitt\n",
        "*   Sobel\n",
        "*   Scharr\n",
        "\n",
        "A imagem é de escolha livre.\n",
        "\n",
        "Ao final, discutir qual foi o melhor filtro. Defina um critério de avaliação objetivo.\n",
        "\n"
      ]
    },
    {
      "cell_type": "code",
      "metadata": {
        "id": "-m6mwvKgHrDe"
      },
      "source": [
        ""
      ],
      "execution_count": null,
      "outputs": []
    }
  ]
}