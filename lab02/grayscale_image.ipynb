{
  "nbformat": 4,
  "nbformat_minor": 0,
  "metadata": {
    "colab": {
      "name": "lab02-grayscale-image.ipynb",
      "provenance": [],
      "collapsed_sections": [],
      "authorship_tag": "ABX9TyMLYwq9zA2/j6hP5Xui86eK",
      "include_colab_link": true
    },
    "kernelspec": {
      "name": "python3",
      "display_name": "Python 3"
    }
  },
  "cells": [
    {
      "cell_type": "markdown",
      "metadata": {
        "id": "view-in-github",
        "colab_type": "text"
      },
      "source": [
        "<a href=\"https://colab.research.google.com/github/COMP3025/2021-labs/blob/main/lab02/grayscale_image.ipynb\" target=\"_parent\"><img src=\"https://colab.research.google.com/assets/colab-badge.svg\" alt=\"Open In Colab\"/></a>"
      ]
    },
    {
      "cell_type": "markdown",
      "metadata": {
        "id": "eeT4sFeCR_Hz"
      },
      "source": [
        "# Lab02\n",
        "\n",
        "Para este exercícío, utilizaremos como base o seguinte [artigo](https://e2eml.school/convert_rgb_to_grayscale.html). Iremos tratar das imagens em tons de cinza.\n",
        "\n",
        "Este trabalho será efetuado em quatro partes:    \n",
        "\n",
        "*   Utilizar a média para calcular a imagem em tons de cinza\n",
        "*   Aplicar percepção de luminância dependente\n",
        "*   Aplicar compressão gama\n",
        "*   Aplicar aproximação linear\n",
        "\n",
        "Neste primeiro espaço de código, carregar as bibliotecas necessárias, e a imagem a ser trabalhada. Procurem uma imagem colorida (lembrem-se de não pegar uma imagem muito grande), e plotem ela abaixo.\n",
        "\n",
        "Para todas as etapas, plotem a imagem resultante."
      ]
    },
    {
      "cell_type": "code",
      "metadata": {
        "id": "mmVVgNSAR5JJ"
      },
      "source": [
        "# import das libs\n",
        "\n",
        "# TODO: carregar a imagem\n",
        "# TODO: plotar a imagem"
      ],
      "execution_count": null,
      "outputs": []
    },
    {
      "cell_type": "markdown",
      "metadata": {
        "id": "nJFzkdRcS4U_"
      },
      "source": [
        "## Utilizar a média para calcular a imagem em tons de cinza\n"
      ]
    },
    {
      "cell_type": "code",
      "metadata": {
        "id": "5GOSGTb5S9Of"
      },
      "source": [
        "# TODO: código para transformar a imagem colorida em tons de cinza\n",
        "# TODO: plotar a imagem resultante"
      ],
      "execution_count": null,
      "outputs": []
    },
    {
      "cell_type": "markdown",
      "metadata": {
        "id": "C6OLByK9TEd6"
      },
      "source": [
        "## Aplicar percepção de luminância dependente\n"
      ]
    },
    {
      "cell_type": "code",
      "metadata": {
        "id": "8et2eS9WTIYG"
      },
      "source": [
        "# TODO: código para transformar a imagem colorida em tons de cinza\n",
        "# TODO: plotar a imagem resultante"
      ],
      "execution_count": null,
      "outputs": []
    },
    {
      "cell_type": "markdown",
      "metadata": {
        "id": "g-Qcsz-7TRBN"
      },
      "source": [
        "## Aplicar compressão $\\gamma$"
      ]
    },
    {
      "cell_type": "code",
      "metadata": {
        "id": "WWyOfi_mTmSI"
      },
      "source": [
        "# TODO: código para transformar a imagem colorida em tons de cinza\n",
        "# TODO: plotar a imagem resultante"
      ],
      "execution_count": null,
      "outputs": []
    },
    {
      "cell_type": "markdown",
      "metadata": {
        "id": "es9ozO3bTpAS"
      },
      "source": [
        "## Aplicar aproximação linear\n"
      ]
    },
    {
      "cell_type": "code",
      "metadata": {
        "id": "iFPPiNrGToch"
      },
      "source": [
        "# TODO: código para transformar a imagem colorida em tons de cinza\n",
        "# TODO: plotar a imagem resultante"
      ],
      "execution_count": null,
      "outputs": []
    }
  ]
}